{
 "cells": [
  {
   "cell_type": "code",
   "execution_count": 26,
   "id": "fc5b1c44",
   "metadata": {},
   "outputs": [],
   "source": [
    "import requests"
   ]
  },
  {
   "cell_type": "code",
   "execution_count": 27,
   "id": "9029e690",
   "metadata": {},
   "outputs": [],
   "source": [
    "API_READ_KEY = '170A0600-671D-11EE-A8AF-42010A80000A'"
   ]
  },
  {
   "cell_type": "code",
   "execution_count": 28,
   "id": "e37ff065",
   "metadata": {},
   "outputs": [],
   "source": [
    "query = 'https://api.purpleair.com/v1/sensors/102840'"
   ]
  },
  {
   "cell_type": "code",
   "execution_count": 29,
   "id": "772fedda",
   "metadata": {},
   "outputs": [],
   "source": [
    "headers = {'X-API-Key': API_READ_KEY}\n",
    "payload = {}"
   ]
  },
  {
   "cell_type": "code",
   "execution_count": 30,
   "id": "a9218823",
   "metadata": {},
   "outputs": [],
   "source": [
    "r = requests.get(query, headers=headers)"
   ]
  },
  {
   "cell_type": "code",
   "execution_count": 31,
   "id": "6ebb5c45",
   "metadata": {},
   "outputs": [
    {
     "data": {
      "text/plain": [
       "{'api_version': 'V1.0.11-0.0.49',\n",
       " 'time_stamp': 1696912004,\n",
       " 'data_time_stamp': 1696911945,\n",
       " 'sensor': {'sensor_index': 102840,\n",
       "  'last_modified': 1652733119,\n",
       "  'date_created': 1617135416,\n",
       "  'last_seen': 1696911866,\n",
       "  'private': 0,\n",
       "  'is_owner': 0,\n",
       "  'name': 'Bowie High School',\n",
       "  'icon': 0,\n",
       "  'location_type': 0,\n",
       "  'model': 'PA-II-SD',\n",
       "  'hardware': '2.0+OPENLOG+NO-DISK+DS3231+BME280+PMSX003-B+PMSX003-A',\n",
       "  'led_brightness': 35,\n",
       "  'firmware_version': '7.02',\n",
       "  'rssi': -59,\n",
       "  'uptime': 6111,\n",
       "  'pa_latency': 181,\n",
       "  'memory': 16264,\n",
       "  'position_rating': 5,\n",
       "  'latitude': 38.978,\n",
       "  'longitude': -76.7435,\n",
       "  'altitude': 127,\n",
       "  'channel_state': 3,\n",
       "  'channel_flags': 0,\n",
       "  'channel_flags_manual': 0,\n",
       "  'channel_flags_auto': 0,\n",
       "  'confidence': 100,\n",
       "  'confidence_auto': 100,\n",
       "  'confidence_manual': 100,\n",
       "  'humidity': 57,\n",
       "  'humidity_a': 57,\n",
       "  'temperature': 60,\n",
       "  'temperature_a': 60,\n",
       "  'pressure': 1006.18,\n",
       "  'pressure_a': 1006.18,\n",
       "  'analog_input': 0.0,\n",
       "  'pm1.0': 2.6,\n",
       "  'pm1.0_a': 2.4,\n",
       "  'pm1.0_b': 2.8,\n",
       "  'pm2.5': 3.5,\n",
       "  'pm2.5_a': 3.2,\n",
       "  'pm2.5_b': 3.7,\n",
       "  'pm2.5_alt': 2.3,\n",
       "  'pm2.5_alt_a': 2.2,\n",
       "  'pm2.5_alt_b': 2.4,\n",
       "  'pm10.0': 3.5,\n",
       "  'pm10.0_a': 3.3,\n",
       "  'pm10.0_b': 3.7,\n",
       "  'scattering_coefficient': 9.2,\n",
       "  'scattering_coefficient_a': 8.8,\n",
       "  'scattering_coefficient_b': 9.6,\n",
       "  'deciviews': 7.4,\n",
       "  'deciviews_a': 7.2,\n",
       "  'deciviews_b': 7.6,\n",
       "  'visual_range': 185.9,\n",
       "  'visual_range_a': 190.1,\n",
       "  'visual_range_b': 181.7,\n",
       "  '0.3_um_count': 610,\n",
       "  '0.3_um_count_a': 584,\n",
       "  '0.3_um_count_b': 637,\n",
       "  '0.5_um_count': 173,\n",
       "  '0.5_um_count_a': 164,\n",
       "  '0.5_um_count_b': 183,\n",
       "  '1.0_um_count': 17,\n",
       "  '1.0_um_count_a': 18,\n",
       "  '1.0_um_count_b': 17,\n",
       "  '2.5_um_count': 0,\n",
       "  '2.5_um_count_a': 1,\n",
       "  '2.5_um_count_b': 0,\n",
       "  '5.0_um_count': 0,\n",
       "  '5.0_um_count_a': 0,\n",
       "  '5.0_um_count_b': 0,\n",
       "  '10.0_um_count': 0,\n",
       "  '10.0_um_count_a': 0,\n",
       "  '10.0_um_count_b': 0,\n",
       "  'pm1.0_cf_1': 2.6,\n",
       "  'pm1.0_cf_1_a': 2.42,\n",
       "  'pm1.0_cf_1_b': 2.76,\n",
       "  'pm1.0_atm': 2.6,\n",
       "  'pm1.0_atm_a': 2.42,\n",
       "  'pm1.0_atm_b': 2.76,\n",
       "  'pm2.5_atm': 3.5,\n",
       "  'pm2.5_atm_a': 3.24,\n",
       "  'pm2.5_atm_b': 3.67,\n",
       "  'pm2.5_cf_1': 3.5,\n",
       "  'pm2.5_cf_1_a': 3.24,\n",
       "  'pm2.5_cf_1_b': 3.67,\n",
       "  'pm10.0_atm': 3.5,\n",
       "  'pm10.0_atm_a': 3.32,\n",
       "  'pm10.0_atm_b': 3.67,\n",
       "  'pm10.0_cf_1': 3.5,\n",
       "  'pm10.0_cf_1_a': 3.32,\n",
       "  'pm10.0_cf_1_b': 3.67,\n",
       "  'primary_id_a': 1344391,\n",
       "  'primary_key_a': 'A4ASUDXL1MKO31M3',\n",
       "  'primary_id_b': 1344393,\n",
       "  'primary_key_b': 'PKR85XFALZIAOGNM',\n",
       "  'secondary_id_a': 1344392,\n",
       "  'secondary_key_a': 'XNASNGNY4BF8RGJH',\n",
       "  'secondary_id_b': 1344394,\n",
       "  'secondary_key_b': '6MSP0HXY40A3OV4Z',\n",
       "  'stats': {'pm2.5': 3.5,\n",
       "   'pm2.5_10minute': 3.1,\n",
       "   'pm2.5_30minute': 2.9,\n",
       "   'pm2.5_60minute': 3.0,\n",
       "   'pm2.5_6hour': 3.2,\n",
       "   'pm2.5_24hour': 5.0,\n",
       "   'pm2.5_1week': 9.7,\n",
       "   'time_stamp': 1696911866},\n",
       "  'stats_a': {'pm2.5': 3.2,\n",
       "   'pm2.5_10minute': 3.0,\n",
       "   'pm2.5_30minute': 2.8,\n",
       "   'pm2.5_60minute': 2.9,\n",
       "   'pm2.5_6hour': 3.2,\n",
       "   'pm2.5_24hour': 4.9,\n",
       "   'pm2.5_1week': 9.8,\n",
       "   'time_stamp': 1696911866},\n",
       "  'stats_b': {'pm2.5': 3.7,\n",
       "   'pm2.5_10minute': 3.2,\n",
       "   'pm2.5_30minute': 3.0,\n",
       "   'pm2.5_60minute': 3.1,\n",
       "   'pm2.5_6hour': 3.3,\n",
       "   'pm2.5_24hour': 5.0,\n",
       "   'pm2.5_1week': 9.6,\n",
       "   'time_stamp': 1696911866}}}"
      ]
     },
     "execution_count": 31,
     "metadata": {},
     "output_type": "execute_result"
    }
   ],
   "source": [
    "r.json()"
   ]
  }
 ],
 "metadata": {
  "kernelspec": {
   "display_name": "Python 3 (ipykernel)",
   "language": "python",
   "name": "python3"
  },
  "language_info": {
   "codemirror_mode": {
    "name": "ipython",
    "version": 3
   },
   "file_extension": ".py",
   "mimetype": "text/x-python",
   "name": "python",
   "nbconvert_exporter": "python",
   "pygments_lexer": "ipython3",
   "version": "3.9.16"
  }
 },
 "nbformat": 4,
 "nbformat_minor": 5
}
