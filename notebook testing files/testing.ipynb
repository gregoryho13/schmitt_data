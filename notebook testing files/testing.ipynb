{
 "cells": [
  {
   "cell_type": "code",
   "execution_count": 7,
   "metadata": {},
   "outputs": [],
   "source": [
    "# install python=3.10(.13)\n",
    "# install ipykernel\n",
    "# install requests\n",
    "import requests"
   ]
  },
  {
   "cell_type": "code",
   "execution_count": 8,
   "metadata": {},
   "outputs": [],
   "source": [
    "API_READ_KEY = 'BAA645C8-66F0-11EE-A8AF-42010A80000A' # Gregory's API READ Key, Swap with organization API key when releasing to production\n",
    "# API_READ_KEY = 'A4C1A5B7-6715-11EE-A8AF-42010A80000A' Levis's API READ Key\n",
    "# API_READ_KEY = '170A0600-671D-11EE-A8AF-42010A80000A' Sayf's API READ Key"
   ]
  },
  {
   "cell_type": "markdown",
   "metadata": {},
   "source": [
    "PurpleAir API request documentaion: https://api.purpleair.com/"
   ]
  },
  {
   "cell_type": "code",
   "execution_count": 9,
   "metadata": {},
   "outputs": [],
   "source": [
    "# query = 'https://api.purpleair.com/v1/keys' # Sample: Check API key\n",
    "query = 'https://api.purpleair.com/v1/sensors'"
   ]
  },
  {
   "cell_type": "code",
   "execution_count": 10,
   "metadata": {},
   "outputs": [],
   "source": [
    "headers = {'X-API-Key': API_READ_KEY}\n",
    "payload = {}"
   ]
  },
  {
   "cell_type": "code",
   "execution_count": 11,
   "metadata": {},
   "outputs": [],
   "source": [
    "r = requests.get(query, headers=headers)"
   ]
  },
  {
   "cell_type": "code",
   "execution_count": 12,
   "metadata": {},
   "outputs": [
    {
     "data": {
      "text/plain": [
       "{'api_version': 'V1.0.11-0.0.49',\n",
       " 'time_stamp': 1696890838,\n",
       " 'api_key_type': 'READ'}"
      ]
     },
     "execution_count": 12,
     "metadata": {},
     "output_type": "execute_result"
    }
   ],
   "source": [
    "r.json()"
   ]
  }
 ],
 "metadata": {
  "kernelspec": {
   "display_name": "inst490",
   "language": "python",
   "name": "python3"
  },
  "language_info": {
   "codemirror_mode": {
    "name": "ipython",
    "version": 3
   },
   "file_extension": ".py",
   "mimetype": "text/x-python",
   "name": "python",
   "nbconvert_exporter": "python",
   "pygments_lexer": "ipython3",
   "version": "3.10.13"
  }
 },
 "nbformat": 4,
 "nbformat_minor": 2
}
